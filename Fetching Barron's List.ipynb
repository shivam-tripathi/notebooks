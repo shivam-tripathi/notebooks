{
 "cells": [
  {
   "cell_type": "code",
   "execution_count": 185,
   "metadata": {
    "collapsed": true
   },
   "outputs": [],
   "source": [
    "from requests import get\n",
    "from requests.exceptions import RequestException\n",
    "from contextlib import closing\n",
    "from bs4 import BeautifulSoup\n",
    "import json\n",
    "from random import randint as rand, shuffle, sample\n",
    "import pandas as pd"
   ]
  },
  {
   "cell_type": "code",
   "execution_count": 116,
   "metadata": {
    "collapsed": true
   },
   "outputs": [],
   "source": [
    "def simple_get(url):\n",
    "    try:\n",
    "        with closing(get(url, stream=True)) as resp:\n",
    "            if is_good_response(resp):\n",
    "                return resp.content\n",
    "            else:\n",
    "                return None\n",
    "\n",
    "    except RequestException as e:\n",
    "        log_error('Error during requests to {0} : {1}'.format(url, str(e)))\n",
    "        return None\n",
    "\n",
    "\n",
    "def is_good_response(resp):\n",
    "    content_type = resp.headers['Content-Type'].lower()\n",
    "    return (resp.status_code == 200 \n",
    "            and content_type is not None \n",
    "            and content_type.find('html') > -1)\n",
    "\n",
    "\n",
    "def log_error(e):\n",
    "    print(e)"
   ]
  },
  {
   "cell_type": "code",
   "execution_count": 138,
   "metadata": {
    "collapsed": true
   },
   "outputs": [],
   "source": [
    "def getContents(url):\n",
    "    raw_html = simple_get(url)\n",
    "    html = BeautifulSoup(raw_html, 'html.parser')\n",
    "    words_html = html.findAll('div', {'class': 'col_a'})\n",
    "    meanings_html = html.findAll('div', {'class': 'col_b'})\n",
    "    words = ([word.find('div', {'class': 'text'}).encode_contents().decode('utf-8') for word in words_html])\n",
    "    meanings = ([word.find('div', {'class': 'text'}).encode_contents().decode('utf-8') for word in meanings_html])\n",
    "    return {'words': words, 'meanings': meanings}"
   ]
  },
  {
   "cell_type": "code",
   "execution_count": 179,
   "metadata": {
    "collapsed": true,
    "scrolled": false
   },
   "outputs": [],
   "source": [
    "def getAllWords(): \n",
    "    base_url = 'https://www.memrise.com/course/121215/barrons-800-essential-word-list-gre/'\n",
    "    results = []\n",
    "    for i in range(1, 81):\n",
    "        url = base_url + str(i) + '/'\n",
    "        result = getContents(url)\n",
    "        results.append(result)\n",
    "    return results\n",
    "\n",
    "results = getAllWords()"
   ]
  },
  {
   "cell_type": "code",
   "execution_count": 183,
   "metadata": {
    "scrolled": false
   },
   "outputs": [],
   "source": [
    "def shuffleOptions(options, meanings):\n",
    "    shuffle(options)\n",
    "    return [meanings[i] for i in options]\n",
    "\n",
    "def processResult(result):\n",
    "    words = result['words']\n",
    "    meanings = result['meanings']\n",
    "    collect = [['Text of the question (required)', 'Text for option 1 (required)', 'Text for option 2 (required)', 'Text for option 3 (optional)', 'Text for option 4 (optional)', 'Text for option 5 (optional)', 'Integer (1-5 for the correct option)', 'Time in seconds (optional, default value is 30)', 'Link of the image (optional)']]\n",
    "    \n",
    "    for i in range(len(words)):\n",
    "        choices = list(range(0, i)) + list(range(i+1, len(meanings)-1)) # Choose any among remaining options\n",
    "        [o1, o2, o3] = sample(choices, 3)\n",
    "        options = shuffleOptions([o1, o2, o3, i], meanings)\n",
    "        correct = options.index(meanings[i]) + 1\n",
    "        out = [words[i], options[0], options[1], options[2], options[3], '', correct, 15, '']\n",
    "        collect.append(out)\n",
    "    return collect\n",
    "        \n",
    "def processResults(results):\n",
    "    headers = ['Question', 'Option 1', 'Option 2', 'Option 3', 'Option 4', 'Option 5', 'Correct Answer', 'Time', 'Image Link']\n",
    "    for i in range(len(results)):\n",
    "        result = processResult(results[i])\n",
    "        df = pd.DataFrame(result, columns=headers)\n",
    "        df.to_excel(f'./xl/{i}.xlsx', sheet_name='sheet1', index=False)\n",
    "\n",
    "processResults(results);"
   ]
  },
  {
   "cell_type": "code",
   "execution_count": 186,
   "metadata": {},
   "outputs": [
    {
     "data": {
      "text/plain": [
       "[1, 5]"
      ]
     },
     "execution_count": 186,
     "metadata": {},
     "output_type": "execute_result"
    }
   ],
   "source": [
    "sample([1,3,4,5], 2)"
   ]
  },
  {
   "cell_type": "code",
   "execution_count": null,
   "metadata": {
    "collapsed": true
   },
   "outputs": [],
   "source": []
  }
 ],
 "metadata": {
  "kernelspec": {
   "display_name": "Python 3",
   "language": "python",
   "name": "python3"
  },
  "language_info": {
   "codemirror_mode": {
    "name": "ipython",
    "version": 3
   },
   "file_extension": ".py",
   "mimetype": "text/x-python",
   "name": "python",
   "nbconvert_exporter": "python",
   "pygments_lexer": "ipython3",
   "version": "3.6.5"
  }
 },
 "nbformat": 4,
 "nbformat_minor": 2
}
